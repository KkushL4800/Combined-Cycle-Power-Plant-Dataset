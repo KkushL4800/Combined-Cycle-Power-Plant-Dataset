{
 "cells": [
  {
   "cell_type": "code",
   "execution_count": 22,
   "metadata": {
    "collapsed": true
   },
   "outputs": [],
   "source": [
    "import numpy as np"
   ]
  },
  {
   "cell_type": "code",
   "execution_count": 23,
   "metadata": {
    "collapsed": true
   },
   "outputs": [],
   "source": [
    "from sklearn import preprocessing\n",
    "data=np.loadtxt(\"training_ccpp_x_y_train.csv\",delimiter=\",\")\n",
    "min_max_scaler_object=preprocessing.MinMaxScaler(feature_range=(0,1))\n",
    "x=data[:,0:4]\n",
    "y=data[:,4]\n",
    "z=np.array([1 for i in range(len(data))])\n",
    "z=z.reshape(len(data),1)\n",
    "x=min_max_scaler_object.fit_transform(x)\n",
    "x=np.append(x,z,axis=1)"
   ]
  },
  {
   "cell_type": "code",
   "execution_count": 24,
   "metadata": {
    "collapsed": true
   },
   "outputs": [],
   "source": [
    "def step_gd(points,lr,j,m):\n",
    "    M=len(points)\n",
    "    slope_m=0\n",
    "    for i in range(M):\n",
    "        xx=points[i,0:5]\n",
    "        yy=y[i]\n",
    "        temp=0\n",
    "        for k in range(5):\n",
    "            temp +=xx[k]*m[k]\n",
    "        temp=yy-temp\n",
    "        slope_m+=(-2/M)*(temp*xx[j])\n",
    "    new_m=m[j]-lr*slope_m\n",
    "    return new_m"
   ]
  },
  {
   "cell_type": "code",
   "execution_count": 25,
   "metadata": {
    "collapsed": true
   },
   "outputs": [],
   "source": [
    "def gd(points,lr,itr):\n",
    "    M=len(points)\n",
    "    N=5\n",
    "    m=[0 for i in range(N)]\n",
    "    for i in range(itr):\n",
    "        for j in range(N):\n",
    "            m[j]=step_gd(points,lr,j,m)\n",
    "       #     print(t_cost(points,m))\n",
    "    return m        "
   ]
  },
  {
   "cell_type": "code",
   "execution_count": 26,
   "metadata": {
    "collapsed": true
   },
   "outputs": [],
   "source": [
    "def t_cost(points,m):\n",
    "    M=len(points)\n",
    "    N=5\n",
    "    cost=0\n",
    "    for i in range(M):\n",
    "        temp=0\n",
    "        xx=points[i,0:5]\n",
    "        yy=y[i]\n",
    "        for j in range(N):\n",
    "            temp+=xx[j]*m[j]\n",
    "        temp=yy-temp\n",
    "        cost+=(1/M)*(temp**2)\n",
    "    return cost  "
   ]
  },
  {
   "cell_type": "code",
   "execution_count": 27,
   "metadata": {
    "collapsed": true
   },
   "outputs": [],
   "source": [
    "def predict(m,x_test):\n",
    "    y_pred=list()\n",
    "    for i in range(len(x_test)):\n",
    "        yy=0\n",
    "        for j in range(4):\n",
    "            yy+=m[j]*x_test[i,j]\n",
    "        yy+=m[4]\n",
    "        y_pred.append(yy)\n",
    "    return (np.array(y_pred))    "
   ]
  },
  {
   "cell_type": "code",
   "execution_count": 28,
   "metadata": {},
   "outputs": [
    {
     "name": "stdout",
     "output_type": "stream",
     "text": [
      "[-54.449105031605662, -21.528502168607517, 6.8779946704204118, -6.2591704034541005, 494.68003346966765]\n"
     ]
    }
   ],
   "source": [
    "learning_rate=1\n",
    "itr=200\n",
    "m=gd(x,learning_rate,itr)\n",
    "print(m)\n",
    "m=np.array(m)\n",
    "test=np.loadtxt(\"test_ccpp_x_test.csv\",delimiter=\",\")\n",
    "test=min_max_scaler_object.fit_transform(test)\n",
    "y_pred=predict(m,test)"
   ]
  },
  {
   "cell_type": "code",
   "execution_count": 21,
   "metadata": {},
   "outputs": [
    {
     "name": "stdout",
     "output_type": "stream",
     "text": [
      "22.3892854452\n"
     ]
    }
   ],
   "source": [
    "print(t_cost(x,m))\n",
    "np.savetxt('cyc.csv',y_pred)"
   ]
  }
 ],
 "metadata": {
  "kernelspec": {
   "display_name": "Python 3",
   "language": "python",
   "name": "python3"
  },
  "language_info": {
   "codemirror_mode": {
    "name": "ipython",
    "version": 3
   },
   "file_extension": ".py",
   "mimetype": "text/x-python",
   "name": "python",
   "nbconvert_exporter": "python",
   "pygments_lexer": "ipython3",
   "version": "3.6.3"
  }
 },
 "nbformat": 4,
 "nbformat_minor": 2
}
